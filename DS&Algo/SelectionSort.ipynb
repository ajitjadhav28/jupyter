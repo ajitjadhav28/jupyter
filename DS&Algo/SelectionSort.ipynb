{
 "cells": [
  {
   "cell_type": "markdown",
   "metadata": {},
   "source": [
    "# Selection Sort\n",
    "\n",
    "## Algorithm : \n",
    "\n",
    "` SelectionSort(A)    --> O(n^2)\n",
    "    For i = 1 to n do    --> O(n)\n",
    "        Sort[i] = Find-Minimum from A    --> atleast O(n/2) -> O(n)\n",
    "        Delete-Minimum from A\n",
    "    Return(Sort)\n",
    "`\n"
   ]
  },
  {
   "cell_type": "code",
   "execution_count": 12,
   "metadata": {},
   "outputs": [],
   "source": [
    "myList = [17, 3, 5, 2, 10, 15, 23, 13, 7, 3]"
   ]
  },
  {
   "cell_type": "markdown",
   "metadata": {},
   "source": [
    "### Find Minimum element of list and return it"
   ]
  },
  {
   "cell_type": "code",
   "execution_count": 13,
   "metadata": {},
   "outputs": [],
   "source": [
    "def findMinimum(l: list, start: int) -> int:\n",
    "    m = start\n",
    "    start += 1\n",
    "    for i in range(start, len(l)):\n",
    "        if l[i] < l[m]:\n",
    "            m = i\n",
    "    return m"
   ]
  },
  {
   "cell_type": "markdown",
   "metadata": {},
   "source": [
    "### Swap smallest element on its correct position"
   ]
  },
  {
   "cell_type": "code",
   "execution_count": 9,
   "metadata": {},
   "outputs": [],
   "source": [
    "def SelectionSort(l: list):\n",
    "    for i in range(len(l)-1):\n",
    "        minIdx = findMinimum(l, i)\n",
    "        if minIdx == i:\n",
    "            continue\n",
    "        else:\n",
    "            l[i], l[minIdx] = l[minIdx], l[i]"
   ]
  },
  {
   "cell_type": "code",
   "execution_count": 11,
   "metadata": {},
   "outputs": [
    {
     "name": "stdout",
     "output_type": "stream",
     "text": [
      "[2, 3, 3, 5, 7, 10, 13, 15, 17, 23]\n"
     ]
    }
   ],
   "source": [
    "SelectionSort(myList)\n",
    "print(myList)"
   ]
  }
 ],
 "metadata": {
  "kernelspec": {
   "display_name": "Python 3",
   "language": "python",
   "name": "python3"
  },
  "language_info": {
   "codemirror_mode": {
    "name": "ipython",
    "version": 3
   },
   "file_extension": ".py",
   "mimetype": "text/x-python",
   "name": "python",
   "nbconvert_exporter": "python",
   "pygments_lexer": "ipython3",
   "version": "3.8.6"
  }
 },
 "nbformat": 4,
 "nbformat_minor": 4
}
