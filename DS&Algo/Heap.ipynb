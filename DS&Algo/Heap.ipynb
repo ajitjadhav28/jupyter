{
 "cells": [
  {
   "cell_type": "markdown",
   "metadata": {},
   "source": [
    "# Heaps\n",
    "\n",
    "**Heapsort is nothing but an implementation of selection sort using the right data structure (Heaps)**\n",
    "\n",
    "In heaps we store the root of the tree in the first position of the array, and its left\n",
    "and right children in the second and third positions, respectively. In general, we\n",
    "will store the $2^{(l-1)}$ keys of the lth level of a complete binary tree from left-to-right\n",
    "in positions $2^{(l−1)}$ to $2^l − 1$.\n",
    "\n",
    "### Representing heaps using list\n",
    "\n",
    "<bq>What is especially nice about this representation is that the positions of the\n",
    "parent and children of the key at position k are readily determined. The left child\n",
    "of k sits in position $2*k$ and the right child in $2*k + 1$, while the parent of k holds\n",
    "court in position $k/2$ .</bq>\n",
    "\n",
    "### Heap Sort\n",
    "\n",
    "Heapsort is a great sorting algorithm. It is simple to program; indeed, the\n",
    "complete implementation has been presented below. It runs in worst-case $O(n*\\log(n))$\n",
    "time, which is the best that can be expected from any sorting algorithm."
   ]
  },
  {
   "cell_type": "code",
   "execution_count": 42,
   "metadata": {},
   "outputs": [],
   "source": [
    "class MinHeap:\n",
    "    def __init__(self):\n",
    "        self.heap = [False, ]\n",
    "        self.n = 0\n",
    "    \n",
    "    def parent(self, elm: int) -> int:\n",
    "        if self.n == 1:\n",
    "            return -1\n",
    "        else:\n",
    "            return elm//2\n",
    "    \n",
    "    def young_child(self, elm: int) -> int:\n",
    "        return 2 * elm\n",
    "    \n",
    "    def bubbleUp(self, elm: int):\n",
    "        parent = self.parent(elm)\n",
    "        if parent == -1:\n",
    "            return\n",
    "        if self.heap[parent] > self.heap[elm]:\n",
    "            self.heap[parent], self.heap[elm] = self.heap[elm], self.heap[parent]\n",
    "            self.bubbleUp(parent)\n",
    "    \n",
    "    def bubble_down(self, e: int):\n",
    "        mIdx = e\n",
    "        yc = self.young_child(e)\n",
    "        for i in range(2):\n",
    "            if (yc + i) <= self.n:\n",
    "                if self.heap[yc+i] < self.heap[mIdx]:\n",
    "                    mIdx = yc+i\n",
    "        if mIdx != e:\n",
    "            self.heap[mIdx], self.heap[e] = self.heap[e], self.heap[mIdx]\n",
    "            self.bubble_down(mIdx)\n",
    "    \n",
    "    def insert(self,item: int):\n",
    "        self.n += 1\n",
    "        self.heap.append(item)\n",
    "        self.bubbleUp(self.n)\n",
    "        \n",
    "    def make(self, l: list):\n",
    "        for item in l:\n",
    "            self.insert(item)\n",
    "    \n",
    "    def extract_min(self) -> int:\n",
    "        minElm = -1\n",
    "        if self.n <= 0:\n",
    "            print(\"Empty heap!\")\n",
    "            return\n",
    "        else:\n",
    "            minElm = self.heap[1]\n",
    "            self.heap[1] = self.heap[self.n]\n",
    "            self.n -= 1\n",
    "            self.bubble_down(1)\n",
    "        return minElm\n",
    "    def sort(self) -> list:\n",
    "        sortedList = []\n",
    "        for i in range(len(self.heap)-1):\n",
    "            sortedList.append(self.extract_min())\n",
    "        return sortedList"
   ]
  },
  {
   "cell_type": "code",
   "execution_count": 43,
   "metadata": {},
   "outputs": [],
   "source": [
    "myHeap = MinHeap()"
   ]
  },
  {
   "cell_type": "code",
   "execution_count": 44,
   "metadata": {},
   "outputs": [],
   "source": [
    "myHeap.make([2,34,56,3,2,7,9,1,5,0])"
   ]
  },
  {
   "cell_type": "code",
   "execution_count": 45,
   "metadata": {},
   "outputs": [
    {
     "data": {
      "text/plain": [
       "[0, 1, 2, 2, 3, 5, 7, 9, 34, 56]"
      ]
     },
     "execution_count": 45,
     "metadata": {},
     "output_type": "execute_result"
    }
   ],
   "source": [
    "myHeap.sort()"
   ]
  }
 ],
 "metadata": {
  "kernelspec": {
   "display_name": "Python 3",
   "language": "python",
   "name": "python3"
  },
  "language_info": {
   "codemirror_mode": {
    "name": "ipython",
    "version": 3
   },
   "file_extension": ".py",
   "mimetype": "text/x-python",
   "name": "python",
   "nbconvert_exporter": "python",
   "pygments_lexer": "ipython3",
   "version": "3.8.6"
  }
 },
 "nbformat": 4,
 "nbformat_minor": 4
}
